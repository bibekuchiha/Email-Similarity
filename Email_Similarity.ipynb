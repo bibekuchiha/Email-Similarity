{
  "nbformat": 4,
  "nbformat_minor": 0,
  "metadata": {
    "colab": {
      "name": "Email Similarity.ipynb",
      "provenance": [],
      "authorship_tag": "ABX9TyNTa8M0XtvHgjw18qodRvV+",
      "include_colab_link": true
    },
    "kernelspec": {
      "name": "python3",
      "display_name": "Python 3"
    }
  },
  "cells": [
    {
      "cell_type": "markdown",
      "metadata": {
        "id": "view-in-github",
        "colab_type": "text"
      },
      "source": [
        "<a href=\"https://colab.research.google.com/github/bibekuchiha/Email-Similarity/blob/master/Email_Similarity.ipynb\" target=\"_parent\"><img src=\"https://colab.research.google.com/assets/colab-badge.svg\" alt=\"Open In Colab\"/></a>"
      ]
    },
    {
      "cell_type": "markdown",
      "metadata": {
        "id": "LVI0XEyIYeJm",
        "colab_type": "text"
      },
      "source": [
        "#Email Similarity\n",
        "In this project, you will use scikit-learn’s Naive Bayes implementation on several different datasets. By reporting the accuracy of the classifier, we can find which datasets are harder to distinguish. For example, how difficult do you think it is to distinguish the difference between emails about hockey and emails about soccer? How hard is it to tell the difference between emails about hockey and emails about tech? In this project, we’ll find out exactly how difficult those two tasks are."
      ]
    },
    {
      "cell_type": "code",
      "metadata": {
        "id": "sRFWzJTsYcUD",
        "colab_type": "code",
        "colab": {}
      },
      "source": [
        "#We’ve imported a dataset of emails from scikit-learn’s datasets. \n",
        "from sklearn.datasets import fetch_20newsgroups\n",
        "from sklearn.naive_bayes import MultinomialNB\n",
        "from sklearn.feature_extraction.text import CountVectorizer"
      ],
      "execution_count": 1,
      "outputs": []
    },
    {
      "cell_type": "markdown",
      "metadata": {
        "id": "evJ-ow1LYtQ7",
        "colab_type": "text"
      },
      "source": [
        "\n",
        "We’re interested in seeing how effective our Naive Bayes classifier is at telling the difference between a baseball email and a hockey email. We can select the categories of articles we want from fetch_20newsgroups by adding the parameter categories."
      ]
    },
    {
      "cell_type": "code",
      "metadata": {
        "id": "8PTPtHYuYdQP",
        "colab_type": "code",
        "colab": {}
      },
      "source": [
        "emails = fetch_20newsgroups(categories = ['rec.sport.baseball', 'rec.sport.hockey'])"
      ],
      "execution_count": 8,
      "outputs": []
    },
    {
      "cell_type": "code",
      "metadata": {
        "id": "0Wi4ZziZZCe7",
        "colab_type": "code",
        "colab": {
          "base_uri": "https://localhost:8080/",
          "height": 765
        },
        "outputId": "893440fe-cf0f-4766-8956-c3ffa8254a11"
      },
      "source": [
        "print(emails.data[5])"
      ],
      "execution_count": 9,
      "outputs": [
        {
          "output_type": "stream",
          "text": [
            "From: mmb@lamar.ColoState.EDU (Michael Burger)\n",
            "Subject: More TV Info\n",
            "Distribution: na\n",
            "Nntp-Posting-Host: lamar.acns.colostate.edu\n",
            "Organization: Colorado State University, Fort Collins, CO  80523\n",
            "Lines: 36\n",
            "\n",
            "United States Coverage:\n",
            "Sunday April 18\n",
            "  N.J./N.Y.I. at Pittsburgh - 1:00 EDT to Eastern Time Zone\n",
            "  ABC - Gary Thorne and Bill Clement\n",
            "\n",
            "  St. Louis at Chicago - 12:00 CDT and 11:00 MDT - to Central/Mountain Zones\n",
            "  ABC - Mike Emerick and Jim Schoenfeld\n",
            "\n",
            "  Los Angeles at Calgary - 12:00 PDT and 11:00 ADT - to Pacific/Alaskan Zones\n",
            "  ABC - Al Michaels and John Davidson\n",
            "\n",
            "Tuesday, April 20\n",
            "  N.J./N.Y.I. at Pittsburgh - 7:30 EDT Nationwide\n",
            "  ESPN - Gary Thorne and Bill Clement\n",
            "\n",
            "Thursday, April 22 and Saturday April 24\n",
            "  To Be Announced - 7:30 EDT Nationwide\n",
            "  ESPN - To Be Announced\n",
            "\n",
            "\n",
            "Canadian Coverage:\n",
            "\n",
            "Sunday, April 18\n",
            "  Buffalo at Boston - 7:30 EDT Nationwide\n",
            "  TSN - ???\n",
            "\n",
            "Tuesday, April 20\n",
            "  N.J.D./N.Y. at Pittsburgh - 7:30 EDT Nationwide\n",
            "  TSN - ???\n",
            "\n",
            "Wednesday, April 21\n",
            "  St. Louis at Chicago - 8:30 EDT Nationwide\n",
            "  TSN - ???\n",
            "\n",
            "\n",
            "\n",
            "\n"
          ],
          "name": "stdout"
        }
      ]
    },
    {
      "cell_type": "code",
      "metadata": {
        "id": "kc39NQwUZGmU",
        "colab_type": "code",
        "colab": {
          "base_uri": "https://localhost:8080/",
          "height": 51
        },
        "outputId": "0d04cef4-5f70-41f8-d3fa-d9f99c33bdc6"
      },
      "source": [
        "\n",
        "print(emails.target_names)\n",
        "#Is this a baseball email or a hockey email?\n",
        "print(emails.target[5])\n"
      ],
      "execution_count": 11,
      "outputs": [
        {
          "output_type": "stream",
          "text": [
            "['rec.sport.baseball', 'rec.sport.hockey']\n",
            "1\n"
          ],
          "name": "stdout"
        }
      ]
    },
    {
      "cell_type": "markdown",
      "metadata": {
        "id": "STkvA_OXZZCb",
        "colab_type": "text"
      },
      "source": [
        "The target of email 5 is 1, which corresponds to rec.sport.hockey."
      ]
    },
    {
      "cell_type": "markdown",
      "metadata": {
        "id": "d1Ise09AZgzS",
        "colab_type": "text"
      },
      "source": [
        "#Making the Training and Test Sets\n"
      ]
    },
    {
      "cell_type": "code",
      "metadata": {
        "id": "WpM2aVtkZPQA",
        "colab_type": "code",
        "colab": {}
      },
      "source": [
        "train_emails = fetch_20newsgroups(categories =['rec.sport.baseball', 'rec.sport.hockey'], subset = 'train', shuffle = True,random_state = 2)\n",
        "test_emails = fetch_20newsgroups(categories = ['rec.sport.baseball', 'rec.sport.hockey'], subset = 'test',shuffle=True ,random_state = 2)"
      ],
      "execution_count": 13,
      "outputs": []
    },
    {
      "cell_type": "markdown",
      "metadata": {
        "id": "Llb6k4FrZxyI",
        "colab_type": "text"
      },
      "source": [
        "#Counting Words\n"
      ]
    },
    {
      "cell_type": "code",
      "metadata": {
        "id": "RNB6h0HQZ1d5",
        "colab_type": "code",
        "colab": {}
      },
      "source": [
        "counter = CountVectorizer()\n",
        "counter.fit(test_emails.data + train_emails.data)\n",
        "train_counts = counter.transform(train_emails.data)\n",
        "test_counts = counter.transform(test_emails.data)\n"
      ],
      "execution_count": 14,
      "outputs": []
    },
    {
      "cell_type": "markdown",
      "metadata": {
        "id": "6ZZet2wDZ4zD",
        "colab_type": "text"
      },
      "source": [
        "#Making a Naive Bayes Classifier\n"
      ]
    },
    {
      "cell_type": "code",
      "metadata": {
        "id": "ono6SgdNZ5ww",
        "colab_type": "code",
        "colab": {
          "base_uri": "https://localhost:8080/",
          "height": 34
        },
        "outputId": "8a0fd800-a479-4199-dcad-27d3ae98c4e5"
      },
      "source": [
        "classifier = MultinomialNB()\n",
        "classifier.fit(train_counts, train_emails.target)\n",
        "print(classifier.score(test_counts , test_emails.target))"
      ],
      "execution_count": 15,
      "outputs": [
        {
          "output_type": "stream",
          "text": [
            "0.9723618090452262\n"
          ],
          "name": "stdout"
        }
      ]
    },
    {
      "cell_type": "markdown",
      "metadata": {
        "id": "ilWwC52YaByA",
        "colab_type": "text"
      },
      "source": [
        "Our classifier does a pretty good job distinguishing between soccer emails and hockey emails. But let’s see how it does with emails about really different topics."
      ]
    },
    {
      "cell_type": "code",
      "metadata": {
        "id": "ZhmrJM-3aCrv",
        "colab_type": "code",
        "colab": {
          "base_uri": "https://localhost:8080/",
          "height": 34
        },
        "outputId": "cbf05456-047e-4ff1-fbbe-eb6d47efb3e4"
      },
      "source": [
        "\n",
        "train_emails = fetch_20newsgroups(categories = ['comp.sys.ibm.pc.hardware','sci.electronics','rec.sport.hockey','rec.motorcycles'], subset = 'train', shuffle = True,random_state = 2)\n",
        "test_emails = fetch_20newsgroups(categories = ['comp.sys.ibm.pc.hardware','sci.electronics','rec.sport.hockey','rec.motorcycles'], subset = 'test',shuffle=True ,random_state = 2)\n",
        "#print(emails.target_names)\n",
        "\n",
        "#print(emails.data[5])\n",
        "#print(emails.target[5])\n",
        "\n",
        "counter = CountVectorizer()\n",
        "counter.fit(test_emails.data + train_emails.data)\n",
        "train_counts = counter.transform(train_emails.data)\n",
        "test_counts = counter.transform(test_emails.data)\n",
        "\n",
        "\n",
        "classifier = MultinomialNB()\n",
        "classifier.fit(train_counts, train_emails.target)\n",
        "print(classifier.score(test_counts , test_emails.target))\n"
      ],
      "execution_count": 16,
      "outputs": [
        {
          "output_type": "stream",
          "text": [
            "0.9361567635903919\n"
          ],
          "name": "stdout"
        }
      ]
    }
  ]
}